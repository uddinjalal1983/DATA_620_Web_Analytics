{
 "cells": [
  {
   "cell_type": "markdown",
   "metadata": {},
   "source": [
    "DATA_620 Assignment_1 \"Hello, Graph World\"\n",
    "Md. Jalal Uddin\n",
    "Date:06-05-2019"
   ]
  },
  {
   "cell_type": "markdown",
   "metadata": {},
   "source": [
    "In this assignment, We are asked to create the nodes and edges for a basic graph, such as the Krackhardt kite. I have used matplotlib and networkx library to create the graph. "
   ]
  },
  {
   "cell_type": "code",
   "execution_count": 1,
   "metadata": {},
   "outputs": [],
   "source": [
    "import matplotlib.pyplot as plt\n",
    "import networkx as nx"
   ]
  },
  {
   "cell_type": "code",
   "execution_count": 2,
   "metadata": {},
   "outputs": [],
   "source": [
    "%matplotlib inline\n",
    "\n",
    "G=nx.Graph()\n",
    "\n",
    "# At first, creating edges of the graph\n",
    "G.add_edge('Andre','Beverly')\n",
    "G.add_edge('Andre','Carol')\n",
    "G.add_edge('Andre','Diane')\n",
    "G.add_edge('Andre','Fernando')\n",
    "G.add_edge('Beverly','Andre')\n",
    "G.add_edge('Beverly','Diane')\n",
    "G.add_edge('Beverly','Ed')\n",
    "G.add_edge('Beverly','Garth')\n",
    "G.add_edge('Carol','Andre')\n",
    "G.add_edge('Carol','Diane')\n",
    "G.add_edge('Carol','Fernando')\n",
    "G.add_edge('Fernando','Garth')\n",
    "G.add_edge('Fernando','Diane')\n",
    "G.add_edge('Fernando','Carol')\n",
    "G.add_edge('Garth','Ed')\n",
    "G.add_edge('Garth','Diane')\n",
    "G.add_edge('Garth','Fernando')\n",
    "G.add_edge('Garth','Heather')\n",
    "G.add_edge('Ed','Beverly')\n",
    "G.add_edge('Ed','Diane')\n",
    "G.add_edge('Ed','Garth')\n",
    "G.add_edge('Heather','Fernando')\n",
    "G.add_edge('Heather','Garth')\n",
    "G.add_edge('Heather','Ike')\n",
    "G.add_edge('Ike','Heather')\n",
    "G.add_edge('Ike','Jane')\n",
    "G.add_edge('Jane','Ike')"
   ]
  },
  {
   "cell_type": "code",
   "execution_count": 3,
   "metadata": {},
   "outputs": [],
   "source": [
    "# Then settin node positions \n",
    "pos={'Andre':(0,1),\n",
    "     'Beverly':(0,-1),\n",
    "     'Carol':(1,2),\n",
    "     'Diane':(1,0),\n",
    "     'Ed':(1,-2),\n",
    "     'Ike':(4,0),\n",
    "     'Garth':(2,-1),\n",
    "     'Jane':(5,0),\n",
    "     'Fernando':(2,1),\n",
    "     'Heather':(3,0)}"
   ]
  },
  {
   "cell_type": "code",
   "execution_count": 4,
   "metadata": {},
   "outputs": [
    {
     "name": "stderr",
     "output_type": "stream",
     "text": [
      "C:\\ProgramData\\Anaconda3\\lib\\site-packages\\networkx\\drawing\\nx_pylab.py:611: MatplotlibDeprecationWarning: isinstance(..., numbers.Number)\n",
      "  if cb.is_numlike(alpha):\n"
     ]
    },
    {
     "data": {
      "image/png": "[encoded data removed]",
      "text/plain": [
       "<Figure size 432x288 with 1 Axes>"
      ]
     },
     "metadata": {
      "needs_background": "light"
     },
     "output_type": "display_data"
    }
   ],
   "source": [
    "# nodes of the graph\n",
    "nx.draw_networkx_nodes(G,pos,node_size=1000, node_color='c')\n",
    "\n",
    "# edges of the graph\n",
    "nx.draw_networkx_edges(G,pos,alpha=0.5,width=3)\n",
    "\n",
    "# labels\n",
    "nx.draw_networkx_labels(G,pos,font_size=12,font_family='fantasy')\n",
    "\n",
    "plt.axis('off')\n",
    "plt.show() # to display the graph"
   ]
  },
  {
   "cell_type": "code",
   "execution_count": null,
   "metadata": {},
   "outputs": [],
   "source": []
  }
 ],
 "metadata": {
  "kernelspec": {
   "display_name": "Python 3",
   "language": "python",
   "name": "python3"
  },
  "language_info": {
   "codemirror_mode": {
    "name": "ipython",
    "version": 3
   },
   "file_extension": ".py",
   "mimetype": "text/x-python",
   "name": "python",
   "nbconvert_exporter": "python",
   "pygments_lexer": "ipython3",
   "version": "3.7.3"
  }
 },
 "nbformat": 4,
 "nbformat_minor": 2
}
